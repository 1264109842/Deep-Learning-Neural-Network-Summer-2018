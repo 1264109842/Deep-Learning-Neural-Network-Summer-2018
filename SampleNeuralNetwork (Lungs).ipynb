{
 "cells": [
  {
   "cell_type": "code",
   "execution_count": 2,
   "metadata": {},
   "outputs": [
    {
     "name": "stdout",
     "output_type": "stream",
     "text": [
      "['.DS_Store', 'test', 'train', 'val']\n"
     ]
    }
   ],
   "source": [
    "import pandas as pd \n",
    "from PIL import Image\n",
    "import cv2                 \n",
    "import numpy as np         \n",
    "import os                  \n",
    "from resizeimage import resizeimage\n",
    "print(os.listdir(\"Documents/chest_xray\"))"
   ]
  },
  {
   "cell_type": "code",
   "execution_count": 3,
   "metadata": {},
   "outputs": [
    {
     "name": "stdout",
     "output_type": "stream",
     "text": [
      "['.DS_Store', 'NORMAL', 'PNEUMONIA']\n",
      "['.DS_Store', 'NORMAL', 'PNEUMONIA']\n"
     ]
    }
   ],
   "source": [
    "print(os.listdir(\"Documents/chest_xray/train\"))\n",
    "print(os.listdir(\"Documents/chest_xray/test\"))"
   ]
  },
  {
   "cell_type": "code",
   "execution_count": 4,
   "metadata": {},
   "outputs": [],
   "source": [
    "TRAIN_DIR = \"Documents/chest_xray/train/\"\n",
    "TEST_DIR = \"Documents/chest_xray/test/\""
   ]
  },
  {
   "cell_type": "code",
   "execution_count": 5,
   "metadata": {},
   "outputs": [],
   "source": [
    "def get_label(Dir):\n",
    "    for nextdir in os.listdir(Dir):\n",
    "        if not nextdir.startswith('.'):\n",
    "            if nextdir in ['NORMAL']:\n",
    "                label = 0\n",
    "            elif nextdir in ['PNEUMONIA']:\n",
    "                label = 1\n",
    "            else:\n",
    "                label = 2\n",
    "    return nextdir, label"
   ]
  },
  {
   "cell_type": "code",
   "execution_count": 6,
   "metadata": {},
   "outputs": [],
   "source": [
    "def preprocessing_data(Dir):\n",
    "    X = []\n",
    "    y = []\n",
    "    \n",
    "    for nextdir in os.listdir(Dir):\n",
    "        nextdir, label = get_label(Dir)\n",
    "        temp = Dir + nextdir\n",
    "        \n",
    "        for image_filename in tqdm(os.listdir(temp)):\n",
    "            path = os.path.join(temp + '/' , image_filename)\n",
    "            img = cv2.imread(path,cv2.IMREAD_GRAYSCALE)\n",
    "           \n",
    "            if img is not None:\n",
    "                print(img.shape)\n",
    "                img = skimage.transform.resize(img, (50, 50, 3))\n",
    "                img = np.asarray(img)\n",
    "                X.append(img)\n",
    "                y.append(label)\n",
    "            \n",
    "    X = np.asarray(X)\n",
    "    y = np.asarray(y)\n",
    "    \n",
    "    return X,y"
   ]
  },
  {
   "cell_type": "code",
   "execution_count": 7,
   "metadata": {},
   "outputs": [],
   "source": [
    "#X_train, y_train = preprocessing_data(TRAIN_DIR)"
   ]
  },
  {
   "cell_type": "code",
   "execution_count": 8,
   "metadata": {},
   "outputs": [],
   "source": [
    "def get_data(Dir):\n",
    "    X = []\n",
    "    y = []\n",
    "    for nextDir in os.listdir(Dir):\n",
    "        if not nextDir.startswith('.'):\n",
    "            if nextDir in ['NORMAL']:\n",
    "                label = 0\n",
    "            elif nextDir in ['PNEUMONIA']:\n",
    "                label = 1\n",
    "            else:\n",
    "                label = 2\n",
    "                \n",
    "            temp = Dir + nextDir\n",
    "                \n",
    "            for file in os.listdir(temp):\n",
    "               # img = cv2.imread(temp + '/' + file)\n",
    "               # if img is not None:\n",
    "                if file != '.DS_Store':\n",
    "                    with open(temp + '/' + file, 'r+b') as f:\n",
    "                        with Image.open(f) as img:\n",
    "                            if len(np.array(img).shape) == 2:\n",
    "                                img = resizeimage.resize_cover(img, [100,100])\n",
    "                                img = np.asarray(img)\n",
    "                                X.append(img)\n",
    "                                y.append(label)\n",
    "                    \n",
    "    X = np.asarray(X)\n",
    "    y = np.asarray(y)\n",
    "    return X,y"
   ]
  },
  {
   "cell_type": "code",
   "execution_count": 9,
   "metadata": {},
   "outputs": [],
   "source": [
    "X_train, y_train = get_data(TRAIN_DIR)"
   ]
  },
  {
   "cell_type": "code",
   "execution_count": 10,
   "metadata": {},
   "outputs": [],
   "source": [
    "X_test, y_test = get_data (TEST_DIR)"
   ]
  },
  {
   "cell_type": "code",
   "execution_count": 11,
   "metadata": {
    "scrolled": true
   },
   "outputs": [
    {
     "name": "stdout",
     "output_type": "stream",
     "text": [
      "(4933, 100, 100) \n",
      " (624, 100, 100)\n"
     ]
    }
   ],
   "source": [
    "print(X_train.shape,'\\n', X_test.shape)"
   ]
  },
  {
   "cell_type": "code",
   "execution_count": 12,
   "metadata": {},
   "outputs": [
    {
     "name": "stdout",
     "output_type": "stream",
     "text": [
      "(4933,) \n",
      " (624,)\n"
     ]
    }
   ],
   "source": [
    "print(y_train.shape,'\\n',y_test.shape)"
   ]
  },
  {
   "cell_type": "code",
   "execution_count": 13,
   "metadata": {},
   "outputs": [],
   "source": [
    "y_train = y_train.reshape(y_train.shape[0], 1)\n",
    "y_test = y_test.reshape(y_test.shape[0], 1)\n",
    "X_train = X_train.reshape(X_train.shape[0], X_train.shape[1] * X_train.shape[2])\n",
    "X_test = X_test.reshape(X_test.shape[0], X_test.shape[1] * X_test.shape[2])"
   ]
  },
  {
   "cell_type": "code",
   "execution_count": 14,
   "metadata": {},
   "outputs": [
    {
     "name": "stdout",
     "output_type": "stream",
     "text": [
      "(4933, 1) \n",
      " (624, 1)\n",
      "(4933, 10000) \n",
      " (624, 10000)\n"
     ]
    }
   ],
   "source": [
    "print(y_train.shape,'\\n',y_test.shape)\n",
    "print(X_train.shape,'\\n', X_test.shape)"
   ]
  },
  {
   "cell_type": "code",
   "execution_count": 15,
   "metadata": {},
   "outputs": [],
   "source": [
    "X_train = X_train / 255\n",
    "y_train = y_train / 255\n",
    "X_test = X_test / 255\n",
    "y_test = y_test / 255"
   ]
  },
  {
   "cell_type": "code",
   "execution_count": 16,
   "metadata": {},
   "outputs": [],
   "source": [
    "#The activation function\n",
    "def sigmoid (x):\n",
    "    activation = 1 / (1 + np.exp(-x))\n",
    "    \n",
    "    return activation"
   ]
  },
  {
   "cell_type": "code",
   "execution_count": 24,
   "metadata": {},
   "outputs": [],
   "source": [
    "#This initialize w and b\n",
    "def initialize_parameters(dim):\n",
    "    w = (np.random.randn(dim, 1) - 0.5) * 0.01 \n",
    "    b = 0\n",
    "    \n",
    "    return w, b"
   ]
  },
  {
   "cell_type": "code",
   "execution_count": 25,
   "metadata": {},
   "outputs": [],
   "source": [
    "#Forward Propogration\n",
    "def forward_propogration(w, b, X, Y):\n",
    "    Z = np.dot(X, w) + b\n",
    "    A = sigmoid(Z)\n",
    "        \n",
    "    return Z, A"
   ]
  },
  {
   "cell_type": "code",
   "execution_count": 26,
   "metadata": {},
   "outputs": [],
   "source": [
    "#Calculate the cost\n",
    "def cost(A, Y, m):\n",
    "    J = (-1/m) * np.sum((Y * np.log(A)) + (1-Y) * np.log(1-A))\n",
    "    \n",
    "    return J"
   ]
  },
  {
   "cell_type": "code",
   "execution_count": 27,
   "metadata": {},
   "outputs": [],
   "source": [
    "#Backward Propogration\n",
    "def backward_propogration(A, Y, X, m):\n",
    "    dz = A - Y\n",
    "    dw = (1/m) * np.dot(X.T, dz)\n",
    "    db = (1/m) * np.sum(dz, axis = 0, keepdims = True)\n",
    "    \n",
    "    return dz, dw, db"
   ]
  },
  {
   "cell_type": "code",
   "execution_count": 28,
   "metadata": {},
   "outputs": [],
   "source": [
    "#Gradient Descent\n",
    "def grads (w, b, dw, db, learning_rate = 0.05):\n",
    "    w_new = w - learning_rate * dw\n",
    "    b_new = b - learning_rate * db\n",
    "    \n",
    "    return w_new, b_new"
   ]
  },
  {
   "cell_type": "code",
   "execution_count": 29,
   "metadata": {},
   "outputs": [],
   "source": [
    "#Predictions\n",
    "def predict(w, b, X, Y):\n",
    "    y_prediction = np.zeros((X.shape[0], 1))\n",
    "    A = sigmoid(np.dot(X, w) + b)\n",
    "    \n",
    "    for i in range(X.shape[0]):\n",
    "        if A[i,0] < 0.5:\n",
    "            y_prediction[i, 0] = 0\n",
    "        else:\n",
    "            y_prediction[i, 0] = 1\n",
    "            \n",
    "    return y_prediction"
   ]
  },
  {
   "cell_type": "code",
   "execution_count": 32,
   "metadata": {
    "scrolled": true
   },
   "outputs": [
    {
     "name": "stdout",
     "output_type": "stream",
     "text": [
      "Cost after iteration 0: 0.08306301153155862\n",
      "Cost after iteration 10: 0.0827814535122197\n",
      "Cost after iteration 20: 0.08249989550095292\n",
      "Cost after iteration 30: 0.08221833749822123\n",
      "Cost after iteration 40: 0.08193677950451467\n",
      "Cost after iteration 50: 0.08165522152035187\n",
      "Cost after iteration 60: 0.08137366354628185\n",
      "Cost after iteration 70: 0.08109210558288574\n",
      "Cost after iteration 80: 0.08081054763077872\n",
      "Cost after iteration 90: 0.08052898969061206\n",
      "Cost after iteration 100: 0.0802474317630754\n",
      "Cost after iteration 110: 0.07996587384889879\n",
      "Cost after iteration 120: 0.07968431594885537\n",
      "Cost after iteration 130: 0.0794027580637638\n",
      "Cost after iteration 140: 0.07912120019449105\n",
      "Cost after iteration 150: 0.07883964234195533\n",
      "Cost after iteration 160: 0.0785580845071291\n",
      "Cost after iteration 170: 0.07827652669104246\n",
      "Cost after iteration 180: 0.07799496889478656\n",
      "Cost after iteration 190: 0.07771341111951728\n",
      "Cost after iteration 200: 0.07743185336645922\n",
      "Cost after iteration 210: 0.07715029563690975\n",
      "Cost after iteration 220: 0.07686873793224362\n",
      "Cost after iteration 230: 0.07658718025391746\n",
      "Cost after iteration 240: 0.07630562260347491\n",
      "Cost after iteration 250: 0.07602406498255186\n",
      "Cost after iteration 260: 0.07574250739288214\n",
      "Cost after iteration 270: 0.0754609498363034\n",
      "Cost after iteration 280: 0.07517939231476362\n",
      "Cost after iteration 290: 0.07489783483032775\n",
      "Cost after iteration 300: 0.07461627738518492\n",
      "Cost after iteration 310: 0.0743347199816562\n",
      "Cost after iteration 320: 0.07405316262220245\n",
      "Cost after iteration 330: 0.07377160530943325\n",
      "Cost after iteration 340: 0.07349004804611595\n",
      "Cost after iteration 350: 0.0732084908351853\n",
      "Cost after iteration 360: 0.07292693367975404\n",
      "Cost after iteration 370: 0.07264537658312382\n",
      "Cost after iteration 380: 0.07236381954879698\n",
      "Cost after iteration 390: 0.07208226258048893\n",
      "Cost after iteration 400: 0.07180070568214157\n",
      "Cost after iteration 410: 0.07151914885793738\n",
      "Cost after iteration 420: 0.07123759211231434\n",
      "Cost after iteration 430: 0.07095603544998212\n",
      "Cost after iteration 440: 0.07067447887593893\n",
      "Cost after iteration 450: 0.07039292239548973\n",
      "Cost after iteration 460: 0.07011136601426553\n",
      "Cost after iteration 470: 0.06982980973824382\n",
      "Cost after iteration 480: 0.06954825357377055\n",
      "Cost after iteration 490: 0.06926669752758338\n",
      "train accuracy: 99.71444811453874 %\n",
      "test accuracy: 99.75490196078431 %\n"
     ]
    }
   ],
   "source": [
    "#Test Run of Neural Network\n",
    "w,b = initialize_parameters(X_train.shape[1])\n",
    "m = y_train.shape[0]\n",
    "learning_rate = 0.001\n",
    "\n",
    "for i in range(500):\n",
    "    Z, A = forward_propogration(w, b, X_train, y_train)\n",
    "\n",
    "    J = cost(A, y_train, m)\n",
    "    \n",
    "    dz, dw, db = backward_propogration(A, y_train, X_train, m)\n",
    "    \n",
    "    w = w - (learning_rate * dw)\n",
    "    b = b - (learning_rate * db)\n",
    "\n",
    "    if i%10 == 0:\n",
    "        print(\"Cost after iteration \" + str(i) + \": \" + str(J))\n",
    "               \n",
    "Y_prediction_test = predict(w, b, X_test, y_test)\n",
    "Y_prediction_train = predict(w, b, X_train, y_train)\n",
    "\n",
    "print(\"train accuracy: {} %\".format(100 - np.mean(np.abs(Y_prediction_train - y_train)) * 100))\n",
    "print(\"test accuracy: {} %\".format(100 - np.mean(np.abs(Y_prediction_test - y_test)) * 100))"
   ]
  },
  {
   "cell_type": "code",
   "execution_count": null,
   "metadata": {},
   "outputs": [],
   "source": []
  }
 ],
 "metadata": {
  "kernelspec": {
   "display_name": "Python 3",
   "language": "python",
   "name": "python3"
  },
  "language_info": {
   "codemirror_mode": {
    "name": "ipython",
    "version": 3
   },
   "file_extension": ".py",
   "mimetype": "text/x-python",
   "name": "python",
   "nbconvert_exporter": "python",
   "pygments_lexer": "ipython3",
   "version": "3.6.5"
  }
 },
 "nbformat": 4,
 "nbformat_minor": 2
}
