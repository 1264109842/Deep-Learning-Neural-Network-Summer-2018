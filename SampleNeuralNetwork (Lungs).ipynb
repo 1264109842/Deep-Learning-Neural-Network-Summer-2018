{
 "cells": [
  {
   "cell_type": "code",
   "execution_count": 1,
   "metadata": {},
   "outputs": [
    {
     "name": "stdout",
     "output_type": "stream",
     "text": [
      "['.DS_Store', 'test', 'train', 'val']\n"
     ]
    }
   ],
   "source": [
    "import pandas as pd \n",
    "from PIL import Image\n",
    "import cv2                 \n",
    "import numpy as np         \n",
    "import os                  \n",
    "from resizeimage import resizeimage\n",
    "print(os.listdir(\"Documents/chest_xray\"))"
   ]
  },
  {
   "cell_type": "code",
   "execution_count": 2,
   "metadata": {},
   "outputs": [
    {
     "name": "stdout",
     "output_type": "stream",
     "text": [
      "['.DS_Store', 'NORMAL', 'PNEUMONIA']\n",
      "['.DS_Store', 'NORMAL', 'PNEUMONIA']\n"
     ]
    }
   ],
   "source": [
    "print(os.listdir(\"Documents/chest_xray/train\"))\n",
    "print(os.listdir(\"Documents/chest_xray/test\"))"
   ]
  },
  {
   "cell_type": "code",
   "execution_count": 3,
   "metadata": {},
   "outputs": [],
   "source": [
    "TRAIN_DIR = \"Documents/chest_xray/train/\"\n",
    "TEST_DIR = \"Documents/chest_xray/test/\""
   ]
  },
  {
   "cell_type": "code",
   "execution_count": 4,
   "metadata": {},
   "outputs": [],
   "source": [
    "def get_label(Dir):\n",
    "    for nextdir in os.listdir(Dir):\n",
    "        if not nextdir.startswith('.'):\n",
    "            if nextdir in ['NORMAL']:\n",
    "                label = 0\n",
    "            elif nextdir in ['PNEUMONIA']:\n",
    "                label = 1\n",
    "            else:\n",
    "                label = 2\n",
    "    return nextdir, label"
   ]
  },
  {
   "cell_type": "code",
   "execution_count": 5,
   "metadata": {},
   "outputs": [],
   "source": [
    "def preprocessing_data(Dir):\n",
    "    X = []\n",
    "    y = []\n",
    "    \n",
    "    for nextdir in os.listdir(Dir):\n",
    "        nextdir, label = get_label(Dir)\n",
    "        temp = Dir + nextdir\n",
    "        \n",
    "        for image_filename in tqdm(os.listdir(temp)):\n",
    "            path = os.path.join(temp + '/' , image_filename)\n",
    "            img = cv2.imread(path,cv2.IMREAD_GRAYSCALE)\n",
    "           \n",
    "            if img is not None:\n",
    "                print(img.shape)\n",
    "                img = skimage.transform.resize(img, (50, 50, 3))\n",
    "                img = np.asarray(img)\n",
    "                X.append(img)\n",
    "                y.append(label)\n",
    "            \n",
    "    X = np.asarray(X)\n",
    "    y = np.asarray(y)\n",
    "    \n",
    "    return X,y"
   ]
  },
  {
   "cell_type": "code",
   "execution_count": 6,
   "metadata": {},
   "outputs": [],
   "source": [
    "#X_train, y_train = preprocessing_data(TRAIN_DIR)"
   ]
  },
  {
   "cell_type": "code",
   "execution_count": 20,
   "metadata": {},
   "outputs": [],
   "source": [
    "def get_data(Dir):\n",
    "    X = []\n",
    "    y = []\n",
    "    for nextDir in os.listdir(Dir):\n",
    "        if not nextDir.startswith('.'):\n",
    "            if nextDir in ['NORMAL']:\n",
    "                label = 0\n",
    "            elif nextDir in ['PNEUMONIA']:\n",
    "                label = 1\n",
    "            else:\n",
    "                label = 2\n",
    "                \n",
    "            temp = Dir + nextDir\n",
    "                \n",
    "            for file in os.listdir(temp):\n",
    "               # img = cv2.imread(temp + '/' + file)\n",
    "               # if img is not None:\n",
    "                if file != '.DS_Store':\n",
    "                    with open(temp + '/' + file, 'r+b') as f:\n",
    "                        with Image.open(f) as img:\n",
    "                            if len(np.array(img).shape) == 2:\n",
    "                                img = resizeimage.resize_cover(img, [100,100])\n",
    "                                img = np.asarray(img)\n",
    "                                X.append(img)\n",
    "                                y.append(label)\n",
    "                    \n",
    "    X = np.asarray(X)\n",
    "    y = np.asarray(y)\n",
    "    return X,y"
   ]
  },
  {
   "cell_type": "code",
   "execution_count": 21,
   "metadata": {},
   "outputs": [],
   "source": [
    "X_train, y_train = get_data(TRAIN_DIR)"
   ]
  },
  {
   "cell_type": "code",
   "execution_count": 22,
   "metadata": {},
   "outputs": [],
   "source": [
    "X_test, y_test = get_data (TEST_DIR)"
   ]
  },
  {
   "cell_type": "code",
   "execution_count": 23,
   "metadata": {
    "scrolled": true
   },
   "outputs": [
    {
     "name": "stdout",
     "output_type": "stream",
     "text": [
      "(4933, 100, 100) \n",
      " (624, 100, 100)\n"
     ]
    }
   ],
   "source": [
    "print(X_train.shape,'\\n', X_test.shape)"
   ]
  },
  {
   "cell_type": "code",
   "execution_count": 24,
   "metadata": {},
   "outputs": [
    {
     "name": "stdout",
     "output_type": "stream",
     "text": [
      "(4933,) \n",
      " (624,)\n"
     ]
    }
   ],
   "source": [
    "print(y_train.shape,'\\n',y_test.shape)"
   ]
  },
  {
   "cell_type": "code",
   "execution_count": 25,
   "metadata": {},
   "outputs": [],
   "source": [
    "y_train = y_train.reshape(y_train.shape[0], 1)\n",
    "\n",
    "y_test = y_test.reshape(y_test.shape[0], 1)\n",
    "\n",
    "X_train = X_train.reshape(X_train.shape[0], X_train.shape[1] * X_train.shape[2])\n",
    "\n",
    "X_test = X_test.reshape(X_test.shape[0], X_test.shape[1] * X_test.shape[2])"
   ]
  },
  {
   "cell_type": "code",
   "execution_count": 26,
   "metadata": {},
   "outputs": [
    {
     "name": "stdout",
     "output_type": "stream",
     "text": [
      "(4933, 1) \n",
      " (624, 1)\n",
      "(4933, 10000) \n",
      " (624, 10000)\n"
     ]
    }
   ],
   "source": [
    "print(y_train.shape,'\\n',y_test.shape)\n",
    "print(X_train.shape,'\\n', X_test.shape)"
   ]
  },
  {
   "cell_type": "code",
   "execution_count": 27,
   "metadata": {},
   "outputs": [],
   "source": [
    "X_train = X_train / 255\n",
    "y_train = y_train / 255\n",
    "X_test = X_test / 255\n",
    "y_test = y_test / 255"
   ]
  },
  {
   "cell_type": "code",
   "execution_count": 28,
   "metadata": {},
   "outputs": [],
   "source": [
    "#The activation function\n",
    "def sigmoid (x):\n",
    "    activation = 1 / (1 + np.exp(-x))\n",
    "    \n",
    "    return activation"
   ]
  },
  {
   "cell_type": "code",
   "execution_count": 29,
   "metadata": {},
   "outputs": [],
   "source": [
    "#This initialize w and b\n",
    "def initialize_parameters(dim):\n",
    "    w = (np.random.rand(dim, 1) - 0.5) * 0.01 \n",
    "    b = 0\n",
    "    \n",
    "    return w, b"
   ]
  },
  {
   "cell_type": "code",
   "execution_count": 30,
   "metadata": {},
   "outputs": [],
   "source": [
    "#Forward Propogration\n",
    "def forward_propogration(w, b, X, Y):\n",
    "    Z = np.dot(X, w) + b\n",
    "    A = sigmoid(Z)\n",
    "        \n",
    "    return Z, A"
   ]
  },
  {
   "cell_type": "code",
   "execution_count": 31,
   "metadata": {},
   "outputs": [],
   "source": [
    "#Calculate the cost\n",
    "def cost(A, Y, m):\n",
    "    J = (-1/m) * np.sum((Y * np.log(A)) + (1-Y) * np.log(1-A))\n",
    "    \n",
    "    return J"
   ]
  },
  {
   "cell_type": "code",
   "execution_count": 32,
   "metadata": {},
   "outputs": [],
   "source": [
    "#Backward Propogration\n",
    "def backward_propogration(A, Y, X, m):\n",
    "    dz = A - Y\n",
    "    dw = (1/m) * np.dot(X.T, dz)\n",
    "    db = (1/m) * np.sum(dz, axis = 0, keepdims = True)\n",
    "    \n",
    "    return dz, dw, db"
   ]
  },
  {
   "cell_type": "code",
   "execution_count": 33,
   "metadata": {},
   "outputs": [],
   "source": [
    "#Gradient Descent\n",
    "def grads (w, b, dw, db, learning_rate = 0.05):\n",
    "    w_new = w - learning_rate * dw\n",
    "    b_new = b - learning_rate * db\n",
    "    \n",
    "    return w_new, b_new"
   ]
  },
  {
   "cell_type": "code",
   "execution_count": 34,
   "metadata": {},
   "outputs": [],
   "source": [
    "#Predictions\n",
    "def predict(w, b, X, Y):\n",
    "    y_prediction = np.zeros((X.shape[0], 1))\n",
    "    A = sigmoid(np.dot(X, w) + b)\n",
    "    \n",
    "    for i in range(X.shape[0]):\n",
    "        if A[i,0] < 0.5:\n",
    "            y_prediction[i, 0] = 0\n",
    "        else:\n",
    "            y_prediction[i, 0] = 1\n",
    "            \n",
    "    return y_prediction"
   ]
  },
  {
   "cell_type": "code",
   "execution_count": 35,
   "metadata": {
    "scrolled": true
   },
   "outputs": [
    {
     "name": "stdout",
     "output_type": "stream",
     "text": [
      "Cost after iteration 0: 0.6457844622312814\n",
      "Cost after iteration 10: 0.5762609499518568\n",
      "Cost after iteration 20: 0.5175734757746663\n",
      "Cost after iteration 30: 0.4678365580399438\n",
      "Cost after iteration 40: 0.42547206067046195\n",
      "Cost after iteration 50: 0.38918143977731856\n",
      "Cost after iteration 60: 0.357906736838542\n",
      "Cost after iteration 70: 0.33079016002876016\n",
      "Cost after iteration 80: 0.3071370996891244\n",
      "Cost after iteration 90: 0.2863844174404284\n",
      "Cost after iteration 100: 0.26807425307795163\n",
      "Cost after iteration 110: 0.2518328599872865\n",
      "Cost after iteration 120: 0.23735371978977368\n",
      "Cost after iteration 130: 0.22438416189353555\n",
      "Cost after iteration 140: 0.21271479045610547\n",
      "Cost after iteration 150: 0.20217113125273958\n",
      "Cost after iteration 160: 0.1926070216585242\n",
      "Cost after iteration 170: 0.18389936508682486\n",
      "Cost after iteration 180: 0.1759439529222776\n",
      "Cost after iteration 190: 0.16865212266177884\n",
      "Cost after iteration 200: 0.16194807270567396\n",
      "Cost after iteration 210: 0.15576669450089065\n",
      "Cost after iteration 220: 0.1500518138633149\n",
      "Cost after iteration 230: 0.1447547572944376\n",
      "Cost after iteration 240: 0.13983317757908434\n",
      "Cost after iteration 250: 0.13525008718688722\n",
      "Cost after iteration 260: 0.13097305899291029\n",
      "Cost after iteration 270: 0.12697356234468896\n",
      "Cost after iteration 280: 0.12322640911562473\n",
      "Cost after iteration 290: 0.11970928954091421\n",
      "Cost after iteration 300: 0.11640238166865131\n",
      "Cost after iteration 310: 0.11328802143160435\n",
      "Cost after iteration 320: 0.1103504228496867\n",
      "Cost after iteration 330: 0.10757543985848808\n",
      "Cost after iteration 340: 0.10495036283971691\n",
      "Cost after iteration 350: 0.10246374419288973\n",
      "Cost after iteration 360: 0.10010524830188831\n",
      "Cost after iteration 370: 0.09786552206757451\n",
      "Cost after iteration 380: 0.09573608283931913\n",
      "Cost after iteration 390: 0.09370922111589884\n",
      "Cost after iteration 400: 0.09177791582469792\n",
      "Cost after iteration 410: 0.08993576034712812\n",
      "Cost after iteration 420: 0.08817689775315246\n",
      "Cost after iteration 430: 0.08649596395103509\n",
      "Cost after iteration 440: 0.08488803765971481\n",
      "Cost after iteration 450: 0.08334859627831244\n",
      "Cost after iteration 460: 0.08187347686648648\n",
      "Cost after iteration 470: 0.08045884156567805\n",
      "Cost after iteration 480: 0.07910114688879451\n",
      "Cost after iteration 490: 0.07779711638786298\n",
      "train accuracy: 99.71444811453874 %\n",
      "test accuracy: 99.75490196078431 %\n"
     ]
    }
   ],
   "source": [
    "#Test Run of Neural Network\n",
    "w,b = initialize_parameters(X_train.shape[1])\n",
    "m = y_train.shape[0]\n",
    "learning_rate = 0.00001\n",
    "\n",
    "for i in range(500):\n",
    "    Z, A = forward_propogration(w, b, X_train, y_train)\n",
    "\n",
    "    J = cost(A, y_train, m)\n",
    "    \n",
    "    dz, dw, db = backward_propogration(A, y_train, X_train, m)\n",
    "    \n",
    "    w = w - (learning_rate * dw)\n",
    "    b = b - (learning_rate * db)\n",
    "\n",
    "    if i%10 == 0:\n",
    "        print(\"Cost after iteration \" + str(i) + \": \" + str(J))\n",
    "               \n",
    "Y_prediction_test = predict(w, b, X_test, y_test)\n",
    "Y_prediction_train = predict(w, b, X_train, y_train)\n",
    "\n",
    "print(\"train accuracy: {} %\".format(100 - np.mean(np.abs(Y_prediction_train - y_train)) * 100))\n",
    "print(\"test accuracy: {} %\".format(100 - np.mean(np.abs(Y_prediction_test - y_test)) * 100))"
   ]
  },
  {
   "cell_type": "code",
   "execution_count": null,
   "metadata": {},
   "outputs": [],
   "source": []
  }
 ],
 "metadata": {
  "kernelspec": {
   "display_name": "Python 3",
   "language": "python",
   "name": "python3"
  },
  "language_info": {
   "codemirror_mode": {
    "name": "ipython",
    "version": 3
   },
   "file_extension": ".py",
   "mimetype": "text/x-python",
   "name": "python",
   "nbconvert_exporter": "python",
   "pygments_lexer": "ipython3",
   "version": "3.6.5"
  }
 },
 "nbformat": 4,
 "nbformat_minor": 2
}
