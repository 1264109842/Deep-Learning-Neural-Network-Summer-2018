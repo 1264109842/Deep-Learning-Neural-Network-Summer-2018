{
 "cells": [
  {
   "cell_type": "code",
   "execution_count": 3,
   "metadata": {},
   "outputs": [
    {
     "ename": "SyntaxError",
     "evalue": "unexpected EOF while parsing (<ipython-input-3-123b0a1573d1>, line 28)",
     "output_type": "error",
     "traceback": [
      "\u001b[0;36m  File \u001b[0;32m\"<ipython-input-3-123b0a1573d1>\"\u001b[0;36m, line \u001b[0;32m28\u001b[0m\n\u001b[0;31m    \u001b[0m\n\u001b[0m    ^\u001b[0m\n\u001b[0;31mSyntaxError\u001b[0m\u001b[0;31m:\u001b[0m unexpected EOF while parsing\n"
     ]
    }
   ],
   "source": [
    "import numpy as np\n",
    "from matplotlib import pyplot as plt\n",
    "from PIL import Image\n",
    "\n",
    "%matplotlib inline \n",
    "from tensorflow.examples.tutorials.mnist import input_data\n",
    "mnist = input_data.read_data_sets(\"MNIST_data/\",one_hot=True)\n",
    "\n",
    "#Needed Vars\n",
    "num_iterations = 100\n",
    "learning_rate = .1\n",
    "X=mnist.train.images.T\n",
    "Y=mnist.train.labels.T\n",
    "X_TEST = mnist.test.images.T\n",
    "Y_TEST = mnist.test.labels.T\n",
    "m = Y.shape[1]\n",
    "#layer dimensions\n",
    "layer_dims=[X.shape[0],4,4,4,4,4,Y.shape[0]]\n",
    "\n",
    "#initialize layer parameters\n",
    "def initialize_parameters(ld):\n",
    "    W = []\n",
    "    b = []\n",
    "    #There are 5 layer dimensions so we need to get W & b for each layer \n",
    "    for i in range(0,6):\n",
    "        W.append(np.random.randn(ld[i+1],ld[i]))\n",
    "        b.append(np.random.rand(ld[i+1],1))\n",
    "    \n",
    "    return W,b\n",
    "\n",
    "#init params\n",
    "W,b = initialize_parameters(layer_dims)\n",
    "\n",
    "#sigmoid function \n",
    "def sigmoid(z):\n",
    "    return 1 / (1+np.exp(-z))\n",
    "\n",
    "#loss function\n",
    "def loss (A,Y):\n",
    "    l = Y * np.log(A) + (1-Y) * np.log(1-A)\n",
    "    return l\n",
    "\n",
    "#cost function\n",
    "def cost (m,A,Y):\n",
    "    c = (-1/m) * np.sum(loss(A,Y))\n",
    "    return c\n",
    "\n",
    "\n",
    "\n",
    "def foward_propagate(m,x,w,b,y):\n",
    "    #compute for each layer \n",
    "    A = []\n",
    "    A[0] = x\n",
    "    z = []\n",
    "    \n",
    "    for i in range (0,5):\n",
    "        #linear\n",
    "        z[i] = np.dot(w[i],A[i])+b[i]\n",
    "        #relu\n",
    "        A[i+1] = np.max(z[i],0)\n",
    "        \n",
    "    \n",
    "    z[5] = np.dot(w[5],A[5])+b[5]\n",
    "    A[6] = sigmoid(z[5])\n",
    "    J = cost(m,A[6],y)\n",
    "    \n",
    "    #return a for the back propagation\n",
    "    return A,J\n",
    "\n",
    "def back_propagate(m,w,a,y):\n",
    "    \n",
    "\n",
    "\n",
    "           \n",
    "    \n",
    "\n",
    "\n",
    "\n",
    "\n"
   ]
  },
  {
   "cell_type": "code",
   "execution_count": null,
   "metadata": {},
   "outputs": [],
   "source": []
  }
 ],
 "metadata": {
  "kernelspec": {
   "display_name": "Python 3",
   "language": "python",
   "name": "python3"
  },
  "language_info": {
   "codemirror_mode": {
    "name": "ipython",
    "version": 3
   },
   "file_extension": ".py",
   "mimetype": "text/x-python",
   "name": "python",
   "nbconvert_exporter": "python",
   "pygments_lexer": "ipython3",
   "version": "3.6.4"
  }
 },
 "nbformat": 4,
 "nbformat_minor": 2
}
