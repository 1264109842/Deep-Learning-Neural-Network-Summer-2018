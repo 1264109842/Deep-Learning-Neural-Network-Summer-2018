{
 "cells": [
  {
   "cell_type": "markdown",
   "metadata": {},
   "source": [
    "# Our one-neuron logistic regression on MNIST\n"
   ]
  },
  {
   "cell_type": "code",
   "execution_count": null,
   "metadata": {
    "scrolled": true
   },
   "outputs": [],
   "source": [
    "import numpy as np\n",
    "image tools \n",
    "from matplotlib import pyplot as plt\n",
    "from PIL import Image\n",
    "\n",
    "%matplotlib inline \n",
    "from tensorflow.examples.tutorials.mnist import input_data\n",
    "mnist = input_data.read_data_sets(\"MNIST_data/\",one_hot=True)"
   ]
  },
  {
   "cell_type": "code",
   "execution_count": null,
   "metadata": {},
   "outputs": [],
   "source": [
    "# Get Inputs and Labels in proper format\n",
    "learning_rate = .001\n",
    "X=mnist.train.images\n",
    "Y=np.reshape(mnist.train.labels[:,0], (mnist.train.labels.shape[0], 1)).T\n",
    "X_TEST = mnist.test.images\n",
    "Y_TEST = np.reshape(mnist.test.labels[:,0], (mnist.test.labels.shape[0], 1)).T\n",
    "\n",
    "#Let X inputs be 1 column \n",
    "X_col = X.T\n",
    "X_TEST_col = X_TEST.T"
   ]
  },
  {
   "cell_type": "code",
   "execution_count": null,
   "metadata": {},
   "outputs": [],
   "source": [
    "#initialize the Z = Wxt + b\n",
    "W = np.random.randn(784,1) * 0.01\n",
    "b = 0"
   ]
  },
  {
   "cell_type": "code",
   "execution_count": null,
   "metadata": {},
   "outputs": [],
   "source": [
    "#sigmoid function\n",
    "def sigmoid(z):\n",
    "    return 1 / (1+np.exp(-z))\n",
    "\n",
    "#loss function\n",
    "def loss (A,Y):\n",
    "    l = Y * np.log(A) + (1-Y) * np.log(1-A)\n",
    "    return l\n",
    "\n",
    "#cost function\n",
    "def cost (m,A,Y):\n",
    "    c = (-1/m) * np.sum(loss(A,Y))\n",
    "    return c\n",
    "\n",
    "#predict function \n",
    "def predict(x,w,b):\n",
    "    s = sigmoid(np.dot(w.T,x)+b)\n",
    "    Y_prediction = np.zeros((1,x.shape[1]))\n",
    "    for i in range (0,x.shape[1]):\n",
    "        if s[0,i] < 0.5:\n",
    "            Y_prediction[0,i] = 0\n",
    "        else:\n",
    "            Y_prediction[0,i] = 1\n",
    "    return Y_prediction"
   ]
  },
  {
   "cell_type": "code",
   "execution_count": null,
   "metadata": {},
   "outputs": [],
   "source": [
    "for i in range(50):\n",
    "    #Foward Propagation\n",
    "    Z = np.dot(W.T,X_col)+b\n",
    "    A = sigmoid(Z)\n",
    "    J = cost(55000,A,Y)\n",
    "    #Back Propagation\n",
    "    dw = (1 / 55000) * np.dot(X_col, (A - Y).T)\n",
    "    db = (1 / 55000) * np.sum(A - Y)\n",
    "    #Updated Gradient descent \n",
    "    W = W - learning_rate * dw\n",
    "    b = b - learning_rate * db\n",
    "    \n",
    "    #print cost after every iteration \n",
    "    print (\"Cost After Every Iteration: \"+ str(J))"
   ]
  },
  {
   "cell_type": "code",
   "execution_count": null,
   "metadata": {},
   "outputs": [],
   "source": [
    "#make prediction\n",
    "Y_PREDICT = predict(X_TEST_col,W,b)\n",
    "Y_TRAIN_PREDICT = predict(X_col,W,b)\n",
    "\n",
    "#Compute Accuracy of Model\n",
    "number_correct = 0\n",
    "for i in range (0,Y_PREDICT.shape[1]):\n",
    "    if Y_PREDICT[0,i] == Y_TEST[0,i]:\n",
    "        number_correct+=1 \n",
    "    else:\n",
    "        pass\n",
    "#print Training accuracy \n",
    "print(number_correct/10000)"
   ]
  },
  {
   "cell_type": "code",
   "execution_count": null,
   "metadata": {},
   "outputs": [],
   "source": [
    "print(mnist.train.images.shape)\n",
    "print(mnist.test.images.shape)\n",
    "print(np.reshape(mnist.train.labels[:,1], (55000,1)).T.shape)\n",
    "print(mnist.test.labels.shape)\n",
    "#print(mnist.test.label.shape)"
   ]
  },
  {
   "cell_type": "code",
   "execution_count": null,
   "metadata": {
    "scrolled": false
   },
   "outputs": [],
   "source": [
    "print(W)\n",
    "print(b)"
   ]
  },
  {
   "cell_type": "code",
   "execution_count": null,
   "metadata": {},
   "outputs": [],
   "source": []
  },
  {
   "cell_type": "code",
   "execution_count": null,
   "metadata": {},
   "outputs": [],
   "source": []
  }
 ],
 "metadata": {
  "kernelspec": {
   "display_name": "Python 3",
   "language": "python",
   "name": "python3"
  },
  "language_info": {
   "codemirror_mode": {
    "name": "ipython",
    "version": 3
   },
   "file_extension": ".py",
   "mimetype": "text/x-python",
   "name": "python",
   "nbconvert_exporter": "python",
   "pygments_lexer": "ipython3",
   "version": "3.6.5"
  }
 },
 "nbformat": 4,
 "nbformat_minor": 2
}
