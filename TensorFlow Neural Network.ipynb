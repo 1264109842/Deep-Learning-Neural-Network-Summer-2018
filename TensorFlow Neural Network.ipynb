{
 "cells": [
  {
   "cell_type": "markdown",
   "metadata": {},
   "source": [
    "- We will be creating a NN from scratch with the help of tensorflow\n",
    "...Installing Packages and installing the MNIST DATASET..."
   ]
  },
  {
   "cell_type": "code",
   "execution_count": 2,
   "metadata": {},
   "outputs": [
    {
     "name": "stdout",
     "output_type": "stream",
     "text": [
      "Extracting MNIST_data/train-images-idx3-ubyte.gz\n",
      "Extracting MNIST_data/train-labels-idx1-ubyte.gz\n",
      "Extracting MNIST_data/t10k-images-idx3-ubyte.gz\n",
      "Extracting MNIST_data/t10k-labels-idx1-ubyte.gz\n"
     ]
    }
   ],
   "source": [
    "import numpy as np\n",
    "import tensorflow as tf\n",
    "from matplotlib import pyplot as plt\n",
    "from PIL import Image\n",
    "\n",
    "%matplotlib inline \n",
    "from tensorflow.examples.tutorials.mnist import input_data\n",
    "mnist = input_data.read_data_sets(\"MNIST_data/\",one_hot=True)"
   ]
  },
  {
   "cell_type": "markdown",
   "metadata": {},
   "source": [
    "- In this step we will set our training set and testing sets for X and Y and initialize the wieghts and activation functins(REMEMBER THIS IS A NETWORK OF ONLY ONE NEURON AND ONE LAYER)\n"
   ]
  },
  {
   "cell_type": "code",
   "execution_count": 3,
   "metadata": {},
   "outputs": [],
   "source": [
    "#Hyperparameters\n",
    "learning_rate = .1\n",
    "epochs = 100\n",
    "\n",
    "#Training and Testing Set\n",
    "X_train=mnist.train.images\n",
    "Y_train=np.reshape(mnist.train.labels[:,0], (mnist.train.labels.shape[0], 1))\n",
    "X_test = mnist.test.images\n",
    "Y_test = np.reshape(mnist.test.labels[:,0], (mnist.test.labels.shape[0], 1)).T\n",
    "\n",
    "#PlaceHolders\n",
    "X = tf.placeholder(tf.float32)\n",
    "Y = tf.placeholder(tf.float32)\n",
    "\n",
    "#initialize the Weight Parameters\n",
    "W = tf.Variable(tf.random_uniform([784,1],-1.0,1.0))\n",
    "B = tf.Variable(tf.zeros([1]))\n",
    "\n",
    "#initialize Z\n",
    "Z = tf.matmul(X,W)+B\n",
    "\n",
    "#initialize Activator \n",
    "a = tf.sigmoid(Z)\n",
    "\n"
   ]
  },
  {
   "cell_type": "markdown",
   "metadata": {},
   "source": [
    "- Here we will initialize cost and the gradient descent "
   ]
  },
  {
   "cell_type": "code",
   "execution_count": 4,
   "metadata": {},
   "outputs": [],
   "source": [
    "#initialize Cost and Gradient Descent \n",
    "cost = tf.reduce_mean(-Y * tf.log(a) - (1-Y) * tf.log(1-a))\n",
    "#gradient descent \n",
    "optimizer = tf.train.GradientDescentOptimizer(learning_rate).minimize(cost)\n"
   ]
  },
  {
   "cell_type": "markdown",
   "metadata": {},
   "source": [
    "- Here We will initialize the session and start to run the program\n"
   ]
  },
  {
   "cell_type": "code",
   "execution_count": 5,
   "metadata": {},
   "outputs": [
    {
     "name": "stdout",
     "output_type": "stream",
     "text": [
      "Cost:  0.747301\n",
      "Cost:  0.6910666\n",
      "Cost:  0.649954\n",
      "Cost:  0.6177439\n",
      "Cost:  0.5911327\n",
      "Cost:  0.568263\n",
      "Cost:  0.54804325\n",
      "Cost:  0.5298021\n",
      "Cost:  0.51311404\n",
      "Cost:  0.49769503\n",
      "Cost:  0.4833513\n",
      "Cost:  0.46994284\n",
      "Cost:  0.4573651\n",
      "Cost:  0.44553587\n",
      "Cost:  0.43438885\n",
      "Cost:  0.42386878\n",
      "Cost:  0.41392636\n",
      "Cost:  0.40451854\n",
      "Cost:  0.3956076\n",
      "Cost:  0.38715872\n",
      "Cost:  0.37914002\n",
      "Cost:  0.371522\n",
      "Cost:  0.36427882\n",
      "Cost:  0.35738426\n",
      "Cost:  0.3508166\n",
      "Cost:  0.3445542\n",
      "Cost:  0.338578\n",
      "Cost:  0.332869\n",
      "Cost:  0.32741123\n",
      "Cost:  0.3221886\n",
      "Cost:  0.3171875\n",
      "Cost:  0.3123936\n",
      "Cost:  0.30779502\n",
      "Cost:  0.30338028\n",
      "Cost:  0.29913828\n",
      "Cost:  0.29505965\n",
      "Cost:  0.29113516\n",
      "Cost:  0.28735536\n",
      "Cost:  0.28371343\n",
      "Cost:  0.2802011\n",
      "Cost:  0.27681184\n",
      "Cost:  0.2735387\n",
      "Cost:  0.27037594\n",
      "Cost:  0.2673181\n",
      "Cost:  0.26435965\n",
      "Cost:  0.2614956\n",
      "Cost:  0.2587213\n",
      "Cost:  0.2560323\n",
      "Cost:  0.25342467\n",
      "Cost:  0.2508944\n",
      "Cost:  0.24843821\n",
      "Cost:  0.24605252\n",
      "Cost:  0.24373394\n",
      "Cost:  0.24147989\n",
      "Cost:  0.23928736\n",
      "Cost:  0.23715352\n",
      "Cost:  0.2350759\n",
      "Cost:  0.23305254\n",
      "Cost:  0.2310804\n",
      "Cost:  0.22915815\n",
      "Cost:  0.22728342\n",
      "Cost:  0.22545423\n",
      "Cost:  0.22366911\n",
      "Cost:  0.22192614\n",
      "Cost:  0.22022358\n",
      "Cost:  0.21856011\n",
      "Cost:  0.21693411\n",
      "Cost:  0.21534419\n",
      "Cost:  0.21378955\n",
      "Cost:  0.21226822\n",
      "Cost:  0.21077937\n",
      "Cost:  0.20932184\n",
      "Cost:  0.20789467\n",
      "Cost:  0.20649645\n",
      "Cost:  0.20512642\n",
      "Cost:  0.20378388\n",
      "Cost:  0.20246747\n",
      "Cost:  0.2011769\n",
      "Cost:  0.19991061\n",
      "Cost:  0.1986685\n",
      "Cost:  0.19744936\n",
      "Cost:  0.1962529\n",
      "Cost:  0.19507816\n",
      "Cost:  0.19392447\n",
      "Cost:  0.1927913\n",
      "Cost:  0.19167784\n",
      "Cost:  0.19058394\n",
      "Cost:  0.18950863\n",
      "Cost:  0.18845165\n",
      "Cost:  0.18741232\n",
      "Cost:  0.18639016\n",
      "Cost:  0.18538466\n",
      "Cost:  0.18439569\n",
      "Cost:  0.1834223\n",
      "Cost:  0.18246438\n",
      "Cost:  0.18152167\n",
      "Cost:  0.18059342\n",
      "Cost:  0.17967944\n",
      "Cost:  0.17877941\n",
      "Cost:  0.17789291\n",
      "Accuracy:  94.11090612411499\n"
     ]
    }
   ],
   "source": [
    "init = tf.global_variables_initializer()\n",
    "\n",
    "with tf.Session() as sess:\n",
    "    sess.run(init)\n",
    "    \n",
    "#Let the fun begin \n",
    "    for i in range (epochs):\n",
    "    #feed_dict: feeding the values to the tensorflow placeholder \n",
    "        _,c = sess.run([optimizer,cost],feed_dict={X: X_train, Y: Y_train})\n",
    "    \n",
    "        if i % 1 == 0:\n",
    "            print (\"Cost: \",c)\n",
    "    \n",
    "\n",
    "    answer = tf.equal(tf.floor(a + 0.5),Y)\n",
    "    accuracy = tf.reduce_mean(tf.cast(answer,\"float\"))\n",
    "\n",
    "    sess.run([a],feed_dict = {X: X_train, Y: Y_train})\n",
    "    print(\"Accuracy: \",accuracy.eval({X: X_train, Y: Y_train})*100)"
   ]
  },
  {
   "cell_type": "code",
   "execution_count": null,
   "metadata": {},
   "outputs": [],
   "source": []
  },
  {
   "cell_type": "code",
   "execution_count": null,
   "metadata": {},
   "outputs": [],
   "source": []
  }
 ],
 "metadata": {
  "kernelspec": {
   "display_name": "Python 3",
   "language": "python",
   "name": "python3"
  },
  "language_info": {
   "codemirror_mode": {
    "name": "ipython",
    "version": 3
   },
   "file_extension": ".py",
   "mimetype": "text/x-python",
   "name": "python",
   "nbconvert_exporter": "python",
   "pygments_lexer": "ipython3",
   "version": "3.6.4"
  }
 },
 "nbformat": 4,
 "nbformat_minor": 2
}
