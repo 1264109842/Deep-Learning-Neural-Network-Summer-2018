{
 "cells": [
  {
   "cell_type": "markdown",
   "metadata": {},
   "source": [
    "- We will be creating a NN from scratch with the help of tensorflow\n",
    "...Installing Packages and installing the MNIST DATASET..."
   ]
  },
  {
   "cell_type": "code",
   "execution_count": 1,
   "metadata": {},
   "outputs": [
    {
     "name": "stdout",
     "output_type": "stream",
     "text": [
      "WARNING:tensorflow:From <ipython-input-1-5078168b0ea5>:8: read_data_sets (from tensorflow.contrib.learn.python.learn.datasets.mnist) is deprecated and will be removed in a future version.\n",
      "Instructions for updating:\n",
      "Please use alternatives such as official/mnist/dataset.py from tensorflow/models.\n",
      "WARNING:tensorflow:From /usr/lib/python3.6/site-packages/tensorflow/contrib/learn/python/learn/datasets/mnist.py:260: maybe_download (from tensorflow.contrib.learn.python.learn.datasets.base) is deprecated and will be removed in a future version.\n",
      "Instructions for updating:\n",
      "Please write your own downloading logic.\n",
      "WARNING:tensorflow:From /usr/lib/python3.6/site-packages/tensorflow/contrib/learn/python/learn/datasets/mnist.py:262: extract_images (from tensorflow.contrib.learn.python.learn.datasets.mnist) is deprecated and will be removed in a future version.\n",
      "Instructions for updating:\n",
      "Please use tf.data to implement this functionality.\n",
      "Extracting MNIST_data/train-images-idx3-ubyte.gz\n",
      "WARNING:tensorflow:From /usr/lib/python3.6/site-packages/tensorflow/contrib/learn/python/learn/datasets/mnist.py:267: extract_labels (from tensorflow.contrib.learn.python.learn.datasets.mnist) is deprecated and will be removed in a future version.\n",
      "Instructions for updating:\n",
      "Please use tf.data to implement this functionality.\n",
      "Extracting MNIST_data/train-labels-idx1-ubyte.gz\n",
      "WARNING:tensorflow:From /usr/lib/python3.6/site-packages/tensorflow/contrib/learn/python/learn/datasets/mnist.py:110: dense_to_one_hot (from tensorflow.contrib.learn.python.learn.datasets.mnist) is deprecated and will be removed in a future version.\n",
      "Instructions for updating:\n",
      "Please use tf.one_hot on tensors.\n",
      "Extracting MNIST_data/t10k-images-idx3-ubyte.gz\n",
      "Extracting MNIST_data/t10k-labels-idx1-ubyte.gz\n",
      "WARNING:tensorflow:From /usr/lib/python3.6/site-packages/tensorflow/contrib/learn/python/learn/datasets/mnist.py:290: DataSet.__init__ (from tensorflow.contrib.learn.python.learn.datasets.mnist) is deprecated and will be removed in a future version.\n",
      "Instructions for updating:\n",
      "Please use alternatives such as official/mnist/dataset.py from tensorflow/models.\n"
     ]
    }
   ],
   "source": [
    "import numpy as np\n",
    "import tensorflow as tf\n",
    "from matplotlib import pyplot as plt\n",
    "from PIL import Image\n",
    "\n",
    "%matplotlib inline \n",
    "from tensorflow.examples.tutorials.mnist import input_data\n",
    "mnist = input_data.read_data_sets(\"MNIST_data/\",one_hot=True)"
   ]
  },
  {
   "cell_type": "markdown",
   "metadata": {},
   "source": [
    "- In this step we will set our training set and testing sets for X and Y and initialize the wieghts and activation functins(REMEMBER THIS IS A NETWORK OF ONLY ONE NEURON AND ONE LAYER)\n"
   ]
  },
  {
   "cell_type": "code",
   "execution_count": 37,
   "metadata": {},
   "outputs": [],
   "source": [
    "#Hyperparameters\n",
    "learning_rate = .1\n",
    "epochs = 100\n",
    "\n",
    "#Training and Testing Set\n",
    "X_train=mnist.train.images\n",
    "Y_train=np.reshape(mnist.train.labels[:,0], (mnist.train.labels.shape[0], 1))\n",
    "X_test = mnist.test.images\n",
    "Y_test = np.reshape(mnist.test.labels[:,0], (mnist.test.labels.shape[0], 1)).T\n",
    "\n",
    "#PlaceHolders\n",
    "X = tf.placeholder(tf.float32)\n",
    "Y = tf.placeholder(tf.float32)\n",
    "\n",
    "#initialize the Weight Parameters\n",
    "W = tf.Variable(tf.random_uniform([784,1],-0.1,0.1))\n",
    "B = tf.Variable(tf.zeros([1]))\n",
    "\n",
    "#initialize Z\n",
    "Z = tf.matmul(X,W)+B\n",
    "\n",
    "#initialize Activator \n",
    "a = tf.sigmoid(Z)"
   ]
  },
  {
   "cell_type": "markdown",
   "metadata": {},
   "source": [
    "- Here we will initialize cost and the gradient descent "
   ]
  },
  {
   "cell_type": "code",
   "execution_count": 38,
   "metadata": {},
   "outputs": [],
   "source": [
    "#initialize Cost and Gradient Descent \n",
    "cost = tf.reduce_mean(-Y * tf.log(a) - (1-Y) * tf.log(1-a))\n",
    "#gradient descent \n",
    "optimizer = tf.train.GradientDescentOptimizer(learning_rate).minimize(cost)\n"
   ]
  },
  {
   "cell_type": "markdown",
   "metadata": {},
   "source": [
    "- Here We will initialize the session and start to run the program\n"
   ]
  },
  {
   "cell_type": "code",
   "execution_count": 39,
   "metadata": {},
   "outputs": [
    {
     "name": "stdout",
     "output_type": "stream",
     "text": [
      "Cost:  0.9591827\n",
      "Cost:  0.3890567\n",
      "Cost:  0.3443464\n",
      "Cost:  0.31863943\n",
      "Cost:  0.29837513\n",
      "Cost:  0.2808575\n",
      "Cost:  0.26528886\n",
      "Cost:  0.25134733\n",
      "Cost:  0.23884687\n",
      "Cost:  0.22763853\n",
      "Cost:  0.21758413\n",
      "Cost:  0.20855486\n",
      "Cost:  0.20043041\n",
      "Cost:  0.19310163\n",
      "Cost:  0.18647067\n",
      "Cost:  0.18045294\n",
      "Cost:  0.17497283\n",
      "Cost:  0.16996676\n",
      "Cost:  0.16537823\n",
      "Cost:  0.16115914\n",
      "Cost:  0.15726762\n",
      "Cost:  0.15366793\n",
      "Cost:  0.15032865\n",
      "Cost:  0.1472222\n",
      "Cost:  0.14432542\n",
      "Cost:  0.1416174\n",
      "Cost:  0.13907972\n",
      "Cost:  0.13669662\n",
      "Cost:  0.13445398\n",
      "Cost:  0.13233887\n",
      "Cost:  0.1303411\n",
      "Cost:  0.12845023\n",
      "Cost:  0.12665749\n",
      "Cost:  0.124955334\n",
      "Cost:  0.12333631\n",
      "Cost:  0.12179455\n",
      "Cost:  0.12032378\n",
      "Cost:  0.118919656\n",
      "Cost:  0.11757676\n",
      "Cost:  0.11629089\n",
      "Cost:  0.11505879\n",
      "Cost:  0.11387631\n",
      "Cost:  0.1127405\n",
      "Cost:  0.11164842\n",
      "Cost:  0.110597216\n",
      "Cost:  0.1095847\n",
      "Cost:  0.10860852\n",
      "Cost:  0.1076664\n",
      "Cost:  0.106756575\n",
      "Cost:  0.10587723\n",
      "Cost:  0.105026655\n",
      "Cost:  0.10420332\n",
      "Cost:  0.103405796\n",
      "Cost:  0.10263281\n",
      "Cost:  0.101883136\n",
      "Cost:  0.10115552\n",
      "Cost:  0.10044912\n",
      "Cost:  0.099762715\n",
      "Cost:  0.09909526\n",
      "Cost:  0.09844604\n",
      "Cost:  0.097814284\n",
      "Cost:  0.097199254\n",
      "Cost:  0.09660012\n",
      "Cost:  0.09601623\n",
      "Cost:  0.09544671\n",
      "Cost:  0.09489138\n",
      "Cost:  0.094349355\n",
      "Cost:  0.09382033\n",
      "Cost:  0.09330341\n",
      "Cost:  0.09279857\n",
      "Cost:  0.092305\n",
      "Cost:  0.091822624\n",
      "Cost:  0.09135056\n",
      "Cost:  0.09088887\n",
      "Cost:  0.09043686\n",
      "Cost:  0.08999437\n",
      "Cost:  0.089561135\n",
      "Cost:  0.0891365\n",
      "Cost:  0.08872038\n",
      "Cost:  0.088312596\n",
      "Cost:  0.08791286\n",
      "Cost:  0.08752063\n",
      "Cost:  0.08713585\n",
      "Cost:  0.08675811\n",
      "Cost:  0.086387604\n",
      "Cost:  0.08602385\n",
      "Cost:  0.085666515\n",
      "Cost:  0.08531561\n",
      "Cost:  0.08497067\n",
      "Cost:  0.084631816\n",
      "Cost:  0.084298894\n",
      "Cost:  0.08397144\n",
      "Cost:  0.08364952\n",
      "Cost:  0.083332874\n",
      "Cost:  0.08302141\n",
      "Cost:  0.08271493\n",
      "Cost:  0.08241334\n",
      "Cost:  0.08211657\n",
      "Cost:  0.081824414\n",
      "Cost:  0.08153651\n",
      "Accuracy:  98.06363582611084\n"
     ]
    }
   ],
   "source": [
    "init = tf.global_variables_initializer()\n",
    "\n",
    "with tf.Session() as sess:\n",
    "    sess.run(init)\n",
    "    \n",
    "    #Let the fun begin \n",
    "    for i in range (epochs):\n",
    "    #feed_dict: feeding the values to the tensorflow placeholder \n",
    "        _,c = sess.run([optimizer,cost],feed_dict={X: X_train, Y: Y_train})\n",
    "    \n",
    "        #if i % 1 == 0:\n",
    "        print (\"Cost: \",c)\n",
    "    \n",
    "\n",
    "    answer = tf.equal(tf.floor(a + 0.5),Y)\n",
    "    accuracy = tf.reduce_mean(tf.cast(answer,\"float\"))\n",
    "\n",
    "    sess.run([a],feed_dict = {X: X_train, Y: Y_train})\n",
    "    print(\"Accuracy: \",accuracy.eval({X: X_train, Y: Y_train})*100)"
   ]
  },
  {
   "cell_type": "code",
   "execution_count": null,
   "metadata": {},
   "outputs": [],
   "source": []
  },
  {
   "cell_type": "code",
   "execution_count": null,
   "metadata": {},
   "outputs": [],
   "source": []
  }
 ],
 "metadata": {
  "kernelspec": {
   "display_name": "Python 3",
   "language": "python",
   "name": "python3"
  },
  "language_info": {
   "codemirror_mode": {
    "name": "ipython",
    "version": 3
   },
   "file_extension": ".py",
   "mimetype": "text/x-python",
   "name": "python",
   "nbconvert_exporter": "python",
   "pygments_lexer": "ipython3",
   "version": "3.6.5"
  }
 },
 "nbformat": 4,
 "nbformat_minor": 2
}
